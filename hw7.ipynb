{
 "cells": [
  {
   "cell_type": "markdown",
   "metadata": {},
   "source": [
    "1. How do you assess the statistical significance of an insight?\n",
    "Statistical significance is assessed by determining the probability that the observed effect is due to chance. This is commonly done by:\n",
    "\n",
    "Formulating a null hypothesis (H₀): usually, that there is no effect or difference.\n",
    "Choosing a significance level (α): often 0.05.\n",
    "Calculating a p-value: the probability of observing results as extreme as those in your data, assuming H₀ is true.\n",
    "Comparing p-value to α:\n",
    "If p-value ≤ α, the result is statistically significant (reject H₀).\n",
    "If p-value > α, the result is not significant.\n",
    "\n",
    "2. What is the Central Limit Theorem? Explain it. Why is it important?\n",
    "The Central Limit Theorem (CLT) states that:\n",
    "\n",
    "When independent random samples are taken from any population with a finite mean and variance, the sampling distribution of the sample mean will approach a normal distribution as the sample size increases — regardless of the population's distribution.\n",
    "Why it’s important:\n",
    "\n",
    "It allows us to make inferences about population parameters using sample statistics.\n",
    "It justifies using normal-based confidence intervals and hypothesis tests in many situations.\n",
    "\n",
    "3. What is statistical power?\n",
    "Statistical power is the probability of correctly rejecting a false null hypothesis (i.e., detecting a true effect when one exists).\n",
    "Power=1−β\n",
    "Where β is the probability of a Type II error (failing to detect a true effect).\n",
    "Higher power means:\n",
    "You're more likely to detect meaningful effects.\n",
    "Power increases with larger sample sizes, larger effect sizes, and lower variability.\n",
    "\n",
    "4. How do you control for biases?\n",
    "Biases can distort the validity of your results. To control for them:\n",
    "Randomization: Randomly assign subjects to groups to eliminate selection bias.\n",
    "Blinding: Prevent participants or researchers from knowing which group they're in.\n",
    "Standardization: Use consistent procedures to reduce measurement bias.\n",
    "Matching: Pair participants with similar characteristics across groups.\n",
    "Statistical controls: Use regression or ANCOVA to adjust for known confounders.\n",
    "\n",
    "5. What are confounding variables?\n",
    "A confounding variable is an external variable that:\n",
    "Is related to both the independent and dependent variables.\n",
    "Can distort the perceived relationship between them.\n",
    "Example: Studying the relationship between exercise and weight loss, diet may be a confounder. If not controlled, it could bias your conclusions.\n",
    "\n",
    "6. What is A/B testing?\n",
    "A/B testing is a controlled experiment comparing two variants:\n",
    "Group A (control) gets the original version.\n",
    "Group B (treatment) gets a modified version.\n",
    "You compare metrics (like click-through rates, conversions) between the two groups to determine if the change had a statistically significant effect.\n",
    "\n",
    "7. What are confidence intervals?\n",
    "A confidence interval (CI) provides a range of values within which we expect a population parameter (like a mean or proportion) to fall, with a certain level of confidence (e.g., 95%).\n",
    "Example:\n",
    "A 95% CI for a mean of [4.5, 6.2] means that if we repeated the study many times, 95% of those intervals would contain the true mean."
   ]
  }
 ],
 "metadata": {
  "language_info": {
   "name": "python"
  }
 },
 "nbformat": 4,
 "nbformat_minor": 2
}
